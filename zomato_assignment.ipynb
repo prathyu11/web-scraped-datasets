{
 "cells": [
  {
   "cell_type": "code",
   "execution_count": null,
   "metadata": {},
   "outputs": [],
   "source": [
    "import selenium\n",
    "from selenium import webdriver\n",
    "browser = webdriver.Chrome('C:/Users/Administrator/chromedriver.exe')"
   ]
  },
  {
   "cell_type": "code",
   "execution_count": null,
   "metadata": {},
   "outputs": [],
   "source": [
    "zomato_url = \"https://www.zomato.com/bangalore/great-food-no-bull\"\n",
    "browser.get(zomato_url)"
   ]
  },
  {
   "cell_type": "code",
   "execution_count": null,
   "metadata": {},
   "outputs": [],
   "source": [
    "restrau_url = browser.find_elements_by_css_selector('div.h100.pb20')\n",
    "print(len(restrau_url))\n",
    "\n",
    "bucket = browser.find_elements_by_css_selector('div.ui.segment.clearfix.brtop')\n",
    "print(bucket)\n"
   ]
  },
  {
   "cell_type": "code",
   "execution_count": null,
   "metadata": {},
   "outputs": [],
   "source": [
    "import pandas as pd\n",
    "restro_df = pd.DataFrame(columns=['Restro_name','Restro_link','Avg_rating','Location'])\n",
    "for i in restrau_url:\n",
    "    try:\n",
    "        restro_name = i.find_element_by_css_selector('div.res_title.zblack.bold.nowrap').get_attribute('title')\n",
    "    except Exception:\n",
    "        restro_name = i.find_element_by_css_selector('div.res_title.zblack.bold').get_attribute('title')\n",
    "    restro_link = i.find_element_by_css_selector('a.jumbo_track_collections').get_attribute('href')\n",
    "    try:\n",
    "        avg_rating = i.find_element_by_css_selector('div').find_element_by_css_selector('a.relative.top-res-box-bg.pl10.ptop0').find_element_by_css_selector('div').get_attribute('innerHTML')\n",
    "    except Exception:\n",
    "        None\n",
    "    \n",
    "    location = i.find_element_by_css_selector('div.nowrap.grey-text.fontsize5.ttupper').get_attribute('innerHTML')\n",
    "    restro_df = restro_df.append({'Restro_name':restro_name,'Restro_link':restro_link,'Avg_rating':avg_rating,'Location':location}, ignore_index=True)\n",
    "    \n",
    "restro_df['Avg_rating'] = restro_df['Avg_rating'].str.replace('\\n','').astype(float)    "
   ]
  },
  {
   "cell_type": "code",
   "execution_count": null,
   "metadata": {},
   "outputs": [],
   "source": [
    "restro_df"
   ]
  },
  {
   "cell_type": "code",
   "execution_count": null,
   "metadata": {},
   "outputs": [],
   "source": [
    "df = pd.DataFrame(columns=['Restro_name','UserId','UserName','Rating'])\n",
    "branch_df = pd.DataFrame(columns=['Restro_name','Branch_Name','Branch_url'])\n",
    "for j in restro_df.index.tolist():\n",
    "    browser.get(restro_df['Restro_link'].loc[j])\n",
    "    \n",
    "    try:\n",
    "        dgg = browser.find_element_by_css_selector('div.respageMenuContainer')\n",
    "        while True:\n",
    "            more_sel = 'div.load-more'\n",
    "            try:\n",
    "                load_more_button = browser.find_element_by_css_selector(more_sel)\n",
    "                load_more_button.click()\n",
    "            except:\n",
    "                break\n",
    "    \n",
    "    except:\n",
    "        khanavali = browser.find_elements_by_css_selector('div.col-s-16.col-m-12.pl0')\n",
    "        for patr in khanavali:\n",
    "            r_name = patr.find_element_by_css_selector('a.result-title.hover_feedback.zred.bold.ln24.fontsize0').get_attribute('innerHTML')\n",
    "            b_name = patr.find_element_by_css_selector('a.ln24.search-page-text.mr10.zblack.search_result_subzone.left').find_element_by_css_selector('b').get_attribute('innerHTML')\n",
    "            b_url = patr.find_element_by_css_selector('a.result-title.hover_feedback.zred.bold.ln24.fontsize0').get_attribute('href')\n",
    "            branch_df = branch_df.append({'Restro_name':r_name,'Branch_Name' : b_name,'Branch_url' : b_url}, ignore_index = True)\n",
    "        \n",
    "    \n",
    "    \n",
    "    \n",
    "    bucket = browser.find_elements_by_css_selector('div.ui.segment.clearfix.brtop')\n",
    "    print(len(bucket))\n",
    "    for i in bucket:\n",
    "        restro_name = restro_df['Restro_name'].loc[j]\n",
    "        print(restro_name)\n",
    "        userid = i.find_element_by_css_selector('a[data-entity_id]').get_attribute('data-entity_id')\n",
    "    \n",
    "        user_name = i.find_element_by_css_selector('a[data-entity_id]').get_attribute('innerHTML')\n",
    "        print(user_name)\n",
    "        rating = i.find_element_by_css_selector('div.rev-text.mbot0').find_element_by_css_selector('div').get_attribute('aria-label')\n",
    "    \n",
    "    \n",
    "        df = df.append({'Restro_name':restro_name,'UserId' : userid,'UserName': user_name,'Rating':rating}, ignore_index=True)"
   ]
  },
  {
   "cell_type": "code",
   "execution_count": null,
   "metadata": {},
   "outputs": [],
   "source": [
    "branch_df['Restro_name'] = branch_df['Restro_name'].str.replace('\\n', '').astype(str)\n",
    "\n",
    "df['Rating'] = df['Rating'].str.replace('Rated', '').astype(float)\n",
    "df['UserName'] = df['UserName'].str.replace('\\n ', '').astype(str)"
   ]
  },
  {
   "cell_type": "code",
   "execution_count": null,
   "metadata": {},
   "outputs": [],
   "source": [
    "df2 = pd.DataFrame(columns = ['Restro_name','UserId','UserName','Rating'])\n",
    "for j in branch_df.index.tolist():\n",
    "    browser.get(branch_df['Branch_url'].loc[j])\n",
    "    while True:\n",
    "        more_sel = 'div.load-more'\n",
    "        try:\n",
    "            load_more_button = browser.find_element_by_css_selector(more_sel)\n",
    "            load_more_button.click()\n",
    "        except:\n",
    "            break\n",
    "    \n",
    "    \n",
    "    bucket = browser.find_elements_by_css_selector('div.ui.segment.clearfix.brtop')\n",
    "    print(len(bucket))\n",
    "    for i in bucket:\n",
    "        restro_name = branch_df['Restro_name'].loc[j]\n",
    "        print(restro_name)\n",
    "        userid = i.find_element_by_css_selector('a[data-entity_id]').get_attribute('data-entity_id')\n",
    "    \n",
    "        user_name = i.find_element_by_css_selector('a[data-entity_id]').get_attribute('innerHTML')\n",
    "        print(user_name)\n",
    "        rating = i.find_element_by_css_selector('div.rev-text.mbot0').find_element_by_css_selector('div').get_attribute('aria-label')\n",
    "    \n",
    "    \n",
    "        df2 = df2.append({'Restro_name':restro_name,'UserId' : userid,'UserName': user_name,'Rating':rating}, ignore_index=True)"
   ]
  },
  {
   "cell_type": "code",
   "execution_count": null,
   "metadata": {},
   "outputs": [],
   "source": [
    "df2['Rating'] = df2['Rating'].str.replace('Rated', '').astype(float)\n",
    "df2['UserName'] = df2['UserName'].str.replace('\\n ', '').astype(str)"
   ]
  },
  {
   "cell_type": "code",
   "execution_count": null,
   "metadata": {},
   "outputs": [],
   "source": [
    "final_df = pd.concat([df, df2], axis = 0)"
   ]
  }
 ],
 "metadata": {
  "kernelspec": {
   "display_name": "Python 3",
   "language": "python",
   "name": "python3"
  },
  "language_info": {
   "codemirror_mode": {
    "name": "ipython",
    "version": 3
   },
   "file_extension": ".py",
   "mimetype": "text/x-python",
   "name": "python",
   "nbconvert_exporter": "python",
   "pygments_lexer": "ipython3",
   "version": "3.6.4"
  }
 },
 "nbformat": 4,
 "nbformat_minor": 2
}
